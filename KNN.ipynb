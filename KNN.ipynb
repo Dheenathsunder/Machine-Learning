{
 "cells": [
  {
   "cell_type": "code",
   "execution_count": 14,
   "metadata": {
    "colab": {
     "base_uri": "https://localhost:8080/"
    },
    "id": "yI7ez5V_Me49",
    "outputId": "db75ec3f-c317-4d4a-bee4-d77bf95bcab6"
   },
   "outputs": [
    {
     "name": "stdout",
     "output_type": "stream",
     "text": [
      "Accuracy: 100.00%\n",
      "\n",
      "Correct Predictions:\n",
      "Data: [ 0.35451684 -0.58505976  0.55777524  0.02224751], Actual: 1, Predicted: 1\n",
      "Data: [-0.13307079  1.65083742 -1.16139502 -1.17911778], Actual: 0, Predicted: 0\n",
      "Data: [ 2.30486738 -1.0322392   1.8185001   1.49058286], Actual: 2, Predicted: 2\n",
      "Data: [ 0.23261993 -0.36147005  0.44316389  0.4227026 ], Actual: 1, Predicted: 1\n",
      "Data: [ 1.2077952  -0.58505976  0.61508092  0.28921757], Actual: 1, Predicted: 1\n",
      "Data: [-0.49876152  0.75647855 -1.27600637 -1.04563275], Actual: 0, Predicted: 0\n",
      "Data: [-0.2549677  -0.36147005 -0.07258719  0.15573254], Actual: 1, Predicted: 1\n",
      "Data: [1.32969211 0.08570939 0.78699794 1.49058286], Actual: 2, Predicted: 2\n",
      "Data: [ 0.47641375 -1.92659808  0.44316389  0.4227026 ], Actual: 1, Predicted: 1\n",
      "Data: [-0.01117388 -0.80864948  0.09932984  0.02224751], Actual: 1, Predicted: 1\n",
      "Data: [0.84210448 0.30929911 0.78699794 1.09012776], Actual: 2, Predicted: 2\n",
      "Data: [-1.23014297 -0.13788033 -1.33331205 -1.44608785], Actual: 0, Predicted: 0\n",
      "Data: [-0.37686461  0.98006827 -1.39061772 -1.31260282], Actual: 0, Predicted: 0\n",
      "Data: [-1.10824606  0.08570939 -1.27600637 -1.44608785], Actual: 0, Predicted: 0\n",
      "Data: [-0.86445224  1.65083742 -1.27600637 -1.17911778], Actual: 0, Predicted: 0\n",
      "Data: [0.59831066 0.53288883 0.55777524 0.55618763], Actual: 1, Predicted: 1\n",
      "Data: [ 0.84210448 -0.13788033  1.18813767  1.35709783], Actual: 2, Predicted: 2\n",
      "Data: [-0.2549677  -1.25582892  0.09932984 -0.11123753], Actual: 1, Predicted: 1\n",
      "Data: [-0.13307079 -0.58505976  0.44316389  0.15573254], Actual: 1, Predicted: 1\n",
      "Data: [ 0.72020757 -0.58505976  1.07352632  1.35709783], Actual: 2, Predicted: 2\n",
      "Data: [-1.35203988  0.30929911 -1.2187007  -1.31260282], Actual: 0, Predicted: 0\n",
      "Data: [ 0.35451684 -0.13788033  0.67238659  0.8231577 ], Actual: 2, Predicted: 2\n",
      "Data: [-0.98634915  0.75647855 -1.2187007  -1.04563275], Actual: 0, Predicted: 0\n",
      "Data: [ 0.72020757 -0.58505976  1.07352632  1.22361279], Actual: 2, Predicted: 2\n",
      "Data: [2.5486612  1.65083742 1.53197172 1.09012776], Actual: 2, Predicted: 2\n",
      "Data: [ 1.08589829 -0.13788033  0.84430362  1.49058286], Actual: 2, Predicted: 2\n",
      "Data: [ 1.08589829 -1.25582892  1.18813767  0.8231577 ], Actual: 2, Predicted: 2\n",
      "Data: [1.2077952  0.30929911 1.24544335 1.49058286], Actual: 2, Predicted: 2\n",
      "Data: [-1.23014297 -0.13788033 -1.33331205 -1.17911778], Actual: 0, Predicted: 0\n",
      "Data: [-1.23014297  0.08570939 -1.2187007  -1.31260282], Actual: 0, Predicted: 0\n",
      "\n",
      "Wrong Predictions:\n"
     ]
    }
   ],
   "source": [
    "from sklearn.datasets import load_iris\n",
    "from sklearn.model_selection import train_test_split\n",
    "from sklearn.neighbors import KNeighborsClassifier\n",
    "from sklearn.metrics import accuracy_score\n",
    "from sklearn.preprocessing import StandardScaler\n",
    "\n",
    "iris = load_iris()\n",
    "\n",
    "X = iris.data\n",
    "y = iris.target\n",
    "\n",
    "X_train, X_test, y_train, y_test = train_test_split(X, y, test_size=0.2, random_state=42)\n",
    "\n",
    "scaler = StandardScaler()\n",
    "X_train = scaler.fit_transform(X_train)\n",
    "X_test = scaler.transform(X_test)\n",
    "\n",
    "knn = KNeighborsClassifier(n_neighbors=3)\n",
    "knn.fit(X_train, y_train)\n",
    "\n",
    "y_pred = knn.predict(X_test)\n",
    "\n",
    "accuracy = accuracy_score(y_test, y_pred)\n",
    "print(f'Accuracy: {accuracy * 100:.2f}%')\n",
    "\n",
    "correct_predictions = [(X_test[i], y_test[i], y_pred[i]) for i in range(len(y_test)) if y_test[i] == y_pred[i]]\n",
    "wrong_predictions = [(X_test[i], y_test[i], y_pred[i]) for i in range(len(y_test)) if y_test[i] != y_pred[i]]\n",
    "\n",
    "print(\"\\nCorrect Predictions:\")\n",
    "for correct in correct_predictions:\n",
    "    print(f\"Data: {correct[0]}, Actual: {correct[1]}, Predicted: {correct[2]}\")\n",
    "\n",
    "print(\"\\nWrong Predictions:\")\n",
    "for wrong in wrong_predictions:\n",
    "    print(f\"Data: {wrong[0]}, Actual: {wrong[1]}, Predicted: {wrong[2]}\")\n"
   ]
  }
 ],
 "metadata": {
  "colab": {
   "provenance": []
  },
  "kernelspec": {
   "display_name": "Python 3 (ipykernel)",
   "language": "python",
   "name": "python3"
  },
  "language_info": {
   "codemirror_mode": {
    "name": "ipython",
    "version": 3
   },
   "file_extension": ".py",
   "mimetype": "text/x-python",
   "name": "python",
   "nbconvert_exporter": "python",
   "pygments_lexer": "ipython3",
   "version": "3.12.7"
  }
 },
 "nbformat": 4,
 "nbformat_minor": 4
}
