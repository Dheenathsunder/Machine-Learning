{
 "cells": [
  {
   "cell_type": "code",
   "execution_count": 4,
   "metadata": {
    "colab": {
     "base_uri": "https://localhost:8080/"
    },
    "id": "7P2INOFVJVwL",
    "outputId": "67a2cc2e-8ac0-4e37-ba8d-1baff3e6ad56"
   },
   "outputs": [
    {
     "name": "stdout",
     "output_type": "stream",
     "text": [
      "Specific Hypothesis: ['Sunny' 'Warm' '?' 'Strong' '?' '?']\n",
      "General Hypotheses: [['Sunny', '?', '?', '?', '?', '?'], ['?', 'Warm', '?', '?', '?', '?']]\n"
     ]
    }
   ],
   "source": [
    "import numpy as np\n",
    "\n",
    "def load_dataset():\n",
    "    dataset = [\n",
    "        ['Sunny', 'Warm', 'Normal', 'Strong', 'Warm', 'Same', 'Yes'],\n",
    "        ['Sunny', 'Warm', 'High', 'Strong', 'Warm', 'Same', 'Yes'],\n",
    "        ['Rainy', 'Cold', 'High', 'Strong', 'Warm', 'Change', 'No'],\n",
    "        ['Sunny', 'Warm', 'High', 'Strong', 'Cool', 'Change', 'Yes']\n",
    "    ]\n",
    "    X = np.array([row[:-1] for row in dataset])\n",
    "    y = np.array([row[-1] for row in dataset])\n",
    "    return X, y\n",
    "\n",
    "def candidate_elimination(X, y):\n",
    "    specific_hypothesis = X[0]\n",
    "    general_hypotheses = [['?' for _ in range(len(specific_hypothesis))] for _ in range(len(specific_hypothesis))]\n",
    "\n",
    "    for i, instance in enumerate(X):\n",
    "        if y[i] == 'Yes':\n",
    "            for j in range(len(specific_hypothesis)):\n",
    "                if specific_hypothesis[j] != instance[j]:\n",
    "                    specific_hypothesis[j] = '?'\n",
    "            general_hypotheses = [h for h in general_hypotheses if all(h[k] == '?' or h[k] == instance[k] for k in range(len(h)))]\n",
    "        elif y[i] == 'No':\n",
    "            for j in range(len(instance)):\n",
    "                if specific_hypothesis[j] != instance[j] and specific_hypothesis[j] != '?':\n",
    "                    new_hypothesis = ['?' if k != j else specific_hypothesis[k] for k in range(len(instance))]\n",
    "                    if new_hypothesis not in general_hypotheses:\n",
    "                        general_hypotheses.append(new_hypothesis)\n",
    "            general_hypotheses = [h for h in general_hypotheses if not all(h[k] == '?' or h[k] == instance[k] for k in range(len(h)))]\n",
    "\n",
    "    general_hypotheses = [h for h in general_hypotheses if any(val != '?' for val in h)]\n",
    "    return specific_hypothesis, general_hypotheses\n",
    "\n",
    "X, y = load_dataset()\n",
    "specific_h, general_h = candidate_elimination(X, y)\n",
    "\n",
    "print(\"Specific Hypothesis:\", specific_h)\n",
    "print(\"General Hypotheses:\", general_h)\n"
   ]
  }
 ],
 "metadata": {
  "colab": {
   "provenance": []
  },
  "kernelspec": {
   "display_name": "Python 3 (ipykernel)",
   "language": "python",
   "name": "python3"
  },
  "language_info": {
   "codemirror_mode": {
    "name": "ipython",
    "version": 3
   },
   "file_extension": ".py",
   "mimetype": "text/x-python",
   "name": "python",
   "nbconvert_exporter": "python",
   "pygments_lexer": "ipython3",
   "version": "3.12.7"
  }
 },
 "nbformat": 4,
 "nbformat_minor": 4
}
