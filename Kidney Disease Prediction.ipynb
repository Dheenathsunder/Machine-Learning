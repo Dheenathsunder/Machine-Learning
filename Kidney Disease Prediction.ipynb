{
 "cells": [
  {
   "cell_type": "code",
   "execution_count": null,
   "metadata": {},
   "outputs": [],
   "source": [
    "!pip install pgmpy"
   ]
  },
  {
   "cell_type": "code",
   "execution_count": 22,
   "metadata": {
    "colab": {
     "base_uri": "https://localhost:8080/"
    },
    "id": "x2ujmqx8M9co",
    "outputId": "7052d39b-06c1-4b9f-e902-74f16a9b3cfa"
   },
   "outputs": [
    {
     "name": "stdout",
     "output_type": "stream",
     "text": [
      "Accuracy of the model: 46.00%\n",
      "\n",
      "Classification Report:\n",
      "              precision    recall  f1-score   support\n",
      "\n",
      "           0       0.45      0.52      0.48        96\n",
      "           1       0.48      0.40      0.44       104\n",
      "\n",
      "    accuracy                           0.46       200\n",
      "   macro avg       0.46      0.46      0.46       200\n",
      "weighted avg       0.46      0.46      0.46       200\n",
      "\n",
      "\n",
      "Example Predictions:\n",
      "Predicted: 1, Actual: 0\n",
      "Predicted: 0, Actual: 1\n",
      "Predicted: 1, Actual: 0\n",
      "Predicted: 1, Actual: 1\n",
      "Predicted: 1, Actual: 1\n"
     ]
    }
   ],
   "source": [
    "import numpy as np\n",
    "import pandas as pd\n",
    "from sklearn.model_selection import train_test_split\n",
    "from sklearn.naive_bayes import GaussianNB\n",
    "from sklearn.metrics import accuracy_score, classification_report\n",
    "\n",
    "# Step 1: Generate synthetic heart disease dataset\n",
    "np.random.seed(42)\n",
    "\n",
    "# Feature generation\n",
    "n_samples = 1000\n",
    "age = np.random.randint(20, 80, n_samples)  # Age between 20 and 80\n",
    "cholesterol = np.random.randint(150, 300, n_samples)  # Cholesterol level between 150 and 300\n",
    "blood_pressure = np.random.randint(100, 180, n_samples)  # Blood pressure between 100 and 180\n",
    "gender = np.random.choice([0, 1], n_samples)  # 0 for female, 1 for male\n",
    "exercise = np.random.choice([0, 1], n_samples)  # 0 for no exercise, 1 for regular exercise\n",
    "heart_disease = np.random.choice([0, 1], n_samples)  # 0 for no disease, 1 for disease\n",
    "\n",
    "# Combine into a DataFrame\n",
    "data = pd.DataFrame({\n",
    "    'Age': age,\n",
    "    'Cholesterol': cholesterol,\n",
    "    'Blood_Pressure': blood_pressure,\n",
    "    'Gender': gender,\n",
    "    'Exercise': exercise,\n",
    "    'Heart_Disease': heart_disease\n",
    "})\n",
    "\n",
    "# Step 2: Preprocess the dataset (No missing values, already in numerical format)\n",
    "X = data.drop('Heart_Disease', axis=1)\n",
    "y = data['Heart_Disease']\n",
    "\n",
    "# Step 3: Split dataset into training and testing (80% train, 20% test)\n",
    "X_train, X_test, y_train, y_test = train_test_split(X, y, test_size=0.2, random_state=42)\n",
    "\n",
    "# Step 4: Train a Naive Bayes (GaussianNB) classifier\n",
    "nb_model = GaussianNB()\n",
    "nb_model.fit(X_train, y_train)\n",
    "\n",
    "# Step 5: Make predictions on the test set\n",
    "y_pred = nb_model.predict(X_test)\n",
    "\n",
    "# Step 6: Evaluate the model\n",
    "accuracy = accuracy_score(y_test, y_pred)\n",
    "print(f\"Accuracy of the model: {accuracy * 100:.2f}%\")\n",
    "\n",
    "# Print classification report for detailed evaluation\n",
    "print(\"\\nClassification Report:\")\n",
    "print(classification_report(y_test, y_pred))\n",
    "\n",
    "# Display some predictions\n",
    "print(\"\\nExample Predictions:\")\n",
    "for i in range(5):\n",
    "    print(f\"Predicted: {y_pred[i]}, Actual: {y_test.iloc[i]}\")\n"
   ]
  }
 ],
 "metadata": {
  "colab": {
   "provenance": []
  },
  "kernelspec": {
   "display_name": "Python 3 (ipykernel)",
   "language": "python",
   "name": "python3"
  },
  "language_info": {
   "codemirror_mode": {
    "name": "ipython",
    "version": 3
   },
   "file_extension": ".py",
   "mimetype": "text/x-python",
   "name": "python",
   "nbconvert_exporter": "python",
   "pygments_lexer": "ipython3",
   "version": "3.12.7"
  }
 },
 "nbformat": 4,
 "nbformat_minor": 4
}
