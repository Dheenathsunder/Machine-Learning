{
 "cells": [
  {
   "cell_type": "code",
   "execution_count": 11,
   "metadata": {
    "colab": {
     "base_uri": "https://localhost:8080/"
    },
    "id": "fcUDhq0ZKIF0",
    "outputId": "6afa5a20-0760-4ab2-c257-7381035bc9a1"
   },
   "outputs": [
    {
     "name": "stdout",
     "output_type": "stream",
     "text": [
      "Decision Tree:\n",
      "{'Outlook': {'Overcast': 'Yes', 'Rainy': {'Wind': {'Strong': 'No', 'Weak': 'Yes'}}, 'Sunny': {'Humidity': {'High': 'No', 'Normal': 'Yes'}}}}\n"
     ]
    }
   ],
   "source": [
    "import numpy as np\n",
    "import pandas as pd\n",
    "from math import log2\n",
    "\n",
    "def entropy(data):\n",
    "    classes, counts = np.unique(data, return_counts=True)\n",
    "    total = np.sum(counts)\n",
    "    return -sum((count / total) * log2(count / total) for count in counts)\n",
    "\n",
    "def information_gain(data, feature, target):\n",
    "    total_entropy = entropy(target)\n",
    "    values, counts = np.unique(data[feature], return_counts=True)\n",
    "    weighted_entropy = sum((counts[i] / np.sum(counts)) * entropy(target[data[feature] == values[i]]) for i in range(len(values)))\n",
    "    return total_entropy - weighted_entropy\n",
    "\n",
    "def id3(data, features, target, parent_value=None):\n",
    "    if len(np.unique(target)) == 1:\n",
    "        return np.unique(target)[0]\n",
    "    if len(data) == 0 or len(features) == 0:\n",
    "        return np.unique(parent_value, return_counts=True)[0][0]\n",
    "    parent_value = target\n",
    "    gains = {feature: information_gain(data, feature, target) for feature in features}\n",
    "    best_feature = max(gains, key=gains.get)\n",
    "    tree = {best_feature: {}}\n",
    "    for value in np.unique(data[best_feature]):\n",
    "        subset = data[data[best_feature] == value]\n",
    "        subtree = id3(subset, [f for f in features if f != best_feature], subset[target.name])\n",
    "        tree[best_feature][value] = subtree\n",
    "    return tree\n",
    "\n",
    "data = pd.DataFrame({\n",
    "    'Outlook': ['Sunny', 'Sunny', 'Overcast', 'Rainy', 'Rainy', 'Rainy', 'Overcast', 'Sunny', 'Sunny', 'Rainy', 'Sunny', 'Overcast', 'Overcast', 'Rainy'],\n",
    "    'Temperature': ['Hot', 'Hot', 'Hot', 'Mild', 'Cool', 'Cool', 'Cool', 'Mild', 'Cool', 'Mild', 'Mild', 'Mild', 'Hot', 'Mild'],\n",
    "    'Humidity': ['High', 'High', 'High', 'High', 'Normal', 'Normal', 'Normal', 'High', 'Normal', 'Normal', 'Normal', 'High', 'Normal', 'High'],\n",
    "    'Wind': ['Weak', 'Strong', 'Weak', 'Weak', 'Weak', 'Strong', 'Strong', 'Weak', 'Weak', 'Weak', 'Strong', 'Strong', 'Weak', 'Strong'],\n",
    "    'Play': ['No', 'No', 'Yes', 'Yes', 'Yes', 'No', 'Yes', 'No', 'Yes', 'Yes', 'Yes', 'Yes', 'Yes', 'No']\n",
    "})\n",
    "\n",
    "features = list(data.columns[:-1])\n",
    "target = data['Play']\n",
    "tree = id3(data, features, target)\n",
    "\n",
    "print(\"Decision Tree:\")\n",
    "print(tree)\n"
   ]
  }
 ],
 "metadata": {
  "colab": {
   "provenance": []
  },
  "kernelspec": {
   "display_name": "Python 3 (ipykernel)",
   "language": "python",
   "name": "python3"
  },
  "language_info": {
   "codemirror_mode": {
    "name": "ipython",
    "version": 3
   },
   "file_extension": ".py",
   "mimetype": "text/x-python",
   "name": "python",
   "nbconvert_exporter": "python",
   "pygments_lexer": "ipython3",
   "version": "3.12.7"
  }
 },
 "nbformat": 4,
 "nbformat_minor": 4
}
